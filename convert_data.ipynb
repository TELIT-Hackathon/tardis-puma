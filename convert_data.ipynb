{
 "cells": [
  {
   "cell_type": "code",
   "execution_count": 2,
   "metadata": {},
   "outputs": [],
   "source": [
    "import json"
   ]
  },
  {
   "cell_type": "code",
   "execution_count": 2,
   "metadata": {},
   "outputs": [],
   "source": [
    "# with open(\"crashes-output2.json\", \"r\") as f:\n",
    "    # crash_data = json.load(f)\n",
    "# \n",
    "# with open(\"bandwidth.json\", \"r\") as f:\n",
    "    # bandwidth_data = json.load(f)\n",
    "# \n",
    "\n",
    "with open(\"combined-data-with-latency.json\", \"r\") as f:\n",
    "    final_data = json.load(f)\n",
    "# \n",
    "with open(\"latency_sum.json\", \"r\") as f:\n",
    "    latency_sum_data = json.load(f)"
   ]
  },
  {
   "cell_type": "code",
   "execution_count": 3,
   "metadata": {},
   "outputs": [],
   "source": [
    "def unique_data(file_data, type1, final={}):\n",
    "    for d_index in range(len(file_data)):\n",
    "        if type(file_data) is dict:\n",
    "            continue\n",
    "        else:\n",
    "            d = file_data[d_index]\n",
    "        key = \";\".join([d[\"instance\"], d[\"consumer\"], d[\"route\"], d[\"method\"]])\n",
    "        if final.get(key) == None:\n",
    "            final.update({key: {}})\n",
    "        \n",
    "        if final[key].get(str(d[\"timestamp\"])) == None:\n",
    "            final[key].update({str(d[\"timestamp\"]): {}})\n",
    "        final[key][str(d[\"timestamp\"])].update({type1: d[\"data\"]})\n",
    "    \n",
    "    return final"
   ]
  },
  {
   "cell_type": "code",
   "execution_count": 4,
   "metadata": {},
   "outputs": [],
   "source": [
    "def merge_data(file_data, final):\n",
    "    # a = mergedeep.merge(file_data, final)\n",
    "    i = 0\n",
    "    for key in list(final.keys()):\n",
    "        i+=1\n",
    "        if i % 100 == 0:\n",
    "            print(i)\n",
    "        for timestamp in list(final[key].keys()):\n",
    "            if timestamp in list(file_data[key].keys()):\n",
    "                final[key][timestamp].update(file_data[key][str(timestamp)])\n",
    "                continue\n",
    "        \n",
    "\n",
    "    return final"
   ]
  },
  {
   "cell_type": "code",
   "execution_count": null,
   "metadata": {},
   "outputs": [],
   "source": [
    "# def merge_data2(file_data, final):\n",
    "#     # a = mergedeep.merge(file_data, final)\n",
    "#     # i = 0\n",
    "#     # for key in list(final.keys()):\n",
    "#         # i+=1\n",
    "#         # if i % 100 == 0:\n",
    "#             # print(i)\n",
    "#     for timestamp in list(final[key].keys()):\n",
    "#         if timestamp in list(file_data[key].keys()):\n",
    "#             final[key][timestamp].update(file_data[key][str(timestamp)])\n",
    "#             continue\n",
    "        \n",
    "\n",
    "#     return final"
   ]
  },
  {
   "cell_type": "code",
   "execution_count": 6,
   "metadata": {},
   "outputs": [],
   "source": [
    "def save_to_file(unique_data):\n",
    "    final = []\n",
    "    for d in unique_data:\n",
    "        for sample in unique_data[d]:\n",
    "            final.append(unique_data[d][sample])\n",
    "    \n",
    "    with open(\"combined-data-with-latency2-ready.json\", \"w\") as f:\n",
    "        f.write(json.dumps(final))"
   ]
  },
  {
   "cell_type": "code",
   "execution_count": 6,
   "metadata": {},
   "outputs": [],
   "source": [
    "# u = unique_data(crash_data, \"h\")"
   ]
  },
  {
   "cell_type": "code",
   "execution_count": null,
   "metadata": {},
   "outputs": [],
   "source": [
    "with open(\"./combined-data-with-latency2.json\", \"r\") as f:\n",
    "    data = json.load(f)"
   ]
  },
  {
   "cell_type": "code",
   "execution_count": null,
   "metadata": {},
   "outputs": [],
   "source": [
    "save_to_file(data)"
   ]
  },
  {
   "cell_type": "code",
   "execution_count": 5,
   "metadata": {},
   "outputs": [
    {
     "name": "stdout",
     "output_type": "stream",
     "text": [
      "100\n",
      "200\n",
      "300\n",
      "400\n",
      "500\n",
      "600\n",
      "700\n",
      "800\n",
      "900\n",
      "1000\n",
      "1100\n",
      "1200\n",
      "1300\n",
      "1400\n",
      "1500\n",
      "1600\n",
      "1700\n",
      "1800\n",
      "1900\n",
      "2000\n",
      "2100\n",
      "2200\n",
      "2300\n"
     ]
    }
   ],
   "source": [
    "# unique_data(crash_data)\n",
    "# u2 = merge_data(bandwidth_data, final=u)\n",
    "u4 = merge_data(latency_sum_data, final=final_data)\n",
    "\n",
    "# u = unique_data(latency_count_data, \"c\", u)\n",
    "with open(\"combined-data-with-latency2.json\", \"w\") as f:\n",
    "    f.write(json.dumps(u4))\n",
    "# save_to_file(u2)"
   ]
  },
  {
   "cell_type": "code",
   "execution_count": null,
   "metadata": {},
   "outputs": [],
   "source": []
  }
 ],
 "metadata": {
  "kernelspec": {
   "display_name": "Python 3.10.1 64-bit",
   "language": "python",
   "name": "python3"
  },
  "language_info": {
   "codemirror_mode": {
    "name": "ipython",
    "version": 3
   },
   "file_extension": ".py",
   "mimetype": "text/x-python",
   "name": "python",
   "nbconvert_exporter": "python",
   "pygments_lexer": "ipython3",
   "version": "3.10.1"
  },
  "orig_nbformat": 4,
  "vscode": {
   "interpreter": {
    "hash": "26de051ba29f2982a8de78e945f0abaf191376122a1563185a90213a26c5da77"
   }
  }
 },
 "nbformat": 4,
 "nbformat_minor": 2
}
