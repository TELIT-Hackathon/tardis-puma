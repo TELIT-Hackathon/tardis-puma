{
 "cells": [
  {
   "cell_type": "code",
   "execution_count": 1,
   "metadata": {},
   "outputs": [],
   "source": [
    "import json\n",
    "from datetime import datetime"
   ]
  },
  {
   "cell_type": "code",
   "execution_count": 2,
   "metadata": {},
   "outputs": [],
   "source": [
    "base_path = \"/home/hamper/Documents/HACKATON2022_DATA/hackathon\"\n",
    "base_path = \"D:\\HACKATHON2022\\HACKATON2022_DATA\\hackathon\"\n",
    "paths = {\n",
    "    \"bandwidth\": \"/bandwidth.json\",\n",
    "    \"http_status\": \"/http_status.json\",\n",
    "    \"latency_count\": \"/latency_count.json\",\n",
    "    \"latency_sum\": \"/latency_sum.json\"\n",
    "}"
   ]
  },
  {
   "cell_type": "code",
   "execution_count": 3,
   "metadata": {},
   "outputs": [],
   "source": [
    "def load_batches(file_type, num_of_batches, start_at_batch=None):\n",
    "    with open(base_path + paths[file_type], \"r\") as j:\n",
    "        end = False\n",
    "        batches = []\n",
    "\n",
    "        if start_at_batch == None:\n",
    "            at_start_of_batches = True\n",
    "        else:\n",
    "            at_start_of_batches = False\n",
    "\n",
    "        lines = []\n",
    "        line_count = 0\n",
    "        batch_count = 0\n",
    "        while not end:\n",
    "            line_count += 1\n",
    "            line = j.readline()\n",
    "            if line == \"\":\n",
    "                end = True\n",
    "            if at_start_of_batches:\n",
    "                lines.append(line)\n",
    "            if \"}\" in line:\n",
    "                # print(j.readline())\n",
    "                # end = True\n",
    "                if at_start_of_batches:\n",
    "                    batch = json.loads(\"\".join(lines + [\"}\"]))\n",
    "                    batches.append(batch[\"metric\"])\n",
    "                batch_count += 1\n",
    "                lines = []\n",
    "                if num_of_batches != 0:\n",
    "                    if batch_count >= num_of_batches:\n",
    "                        end = True\n",
    "        return batches\n"
   ]
  },
  {
   "cell_type": "code",
   "execution_count": 29,
   "metadata": {},
   "outputs": [],
   "source": [
    "# bandwidth_batches = load_batches(\"bandwidth\", 1000)\n",
    "# print(\"1 Completed\")\n",
    "# http_status_batches = load_batches(\"http_status\", 1000)\n",
    "# print(\"2 Completed\")\n",
    "# latency_count_batches = load_batches(\"latency_count\", 1000)\n",
    "# print(\"3 Completed\")\n",
    "# latency_sum_batches = load_batches(\"latency_sum\", 1000)\n",
    "# print(\"4 Completed\")\n"
   ]
  },
  {
   "cell_type": "code",
   "execution_count": 40,
   "metadata": {},
   "outputs": [],
   "source": [
    "# http_status_batches = load_batches(\"http_status\", 0)"
   ]
  },
  {
   "cell_type": "code",
   "execution_count": null,
   "metadata": {},
   "outputs": [],
   "source": [
    "# joined = dict(zip(http_status_batches[1][\"timestamps\"], http_status_batches[1][\"values\"])) "
   ]
  },
  {
   "cell_type": "code",
   "execution_count": null,
   "metadata": {},
   "outputs": [],
   "source": [
    "# all_options = []\n",
    "# for http_batch in http_status_batches:\n",
    "    # if http_batch[\"method\"] == \"PUT\":\n",
    "        # all_options.append(with_keys(http_batch, [\"code\", \"method\", \"pod\", \"consumer\", \"clusterID\"]))\n",
    "        "
   ]
  },
  {
   "cell_type": "code",
   "execution_count": 4,
   "metadata": {},
   "outputs": [],
   "source": [
    "def parseData(batches, filename):\n",
    "    final = []\n",
    "\n",
    "    for batch in batches:\n",
    "        for index in range(len(batch[\"values\"])):\n",
    "            final.append({\n",
    "                \"timestamp\": batch[\"timestamps\"][index],\n",
    "                \"clusterID\": batch[\"clusterID\"],\n",
    "                \"consumer\": batch[\"consumer\"],\n",
    "                \"instance\": batch[\"instance\"],\n",
    "                \"route\": batch[\"route\"],\n",
    "                \"data\": batch[\"values\"][index],\n",
    "                \"method\":  batch[\"method\"]\n",
    "            })\n",
    "\n",
    "    with open(f'{filename}.json', 'w') as f:\n",
    "        f.write(json.dumps(final))"
   ]
  },
  {
   "cell_type": "code",
   "execution_count": 5,
   "metadata": {},
   "outputs": [],
   "source": [
    "def unique_data(batches, type1, filename):\n",
    "    final = {}\n",
    "    for batch in batches:\n",
    "        key = \";\".join([batch[\"instance\"], batch[\"consumer\"], batch[\"route\"], batch[\"method\"]])\n",
    "        if final.get(key) == None:\n",
    "            final.update({key: {}})\n",
    "        \n",
    "\n",
    "        for index in range(len(batch[\"values\"])):\n",
    "            if final[key].get(batch[\"timestamps\"][index]) == None:\n",
    "                final[key].update({batch[\"timestamps\"][index]: {}})\n",
    "            final[key][batch[\"timestamps\"][index]].update({type1: batch[\"values\"][index]})\n",
    "    \n",
    "    \n",
    "    with open(f'{filename}.json', 'w') as f:\n",
    "        f.write(json.dumps(final))"
   ]
  },
  {
   "cell_type": "code",
   "execution_count": 6,
   "metadata": {},
   "outputs": [],
   "source": [
    "# bandwidth_batches = load_batches(\"bandwidth\", 0)\n",
    "# print(\"1 Completed\")\n",
    "http_status_batches = load_batches(\"http_status\", 0)\n",
    "# print(\"2 Completed\")\n",
    "# latency_count_batches = load_batches(\"latency_count\", 0)\n",
    "# print(\"3 Completed\")\n",
    "# latency_sum_batches = load_batches(\"latency_sum\", 0)\n",
    "# print(\"4 Completed\")"
   ]
  },
  {
   "cell_type": "code",
   "execution_count": 8,
   "metadata": {},
   "outputs": [],
   "source": [
    "# print(len(bandwidth_batches))\n",
    "# parseData(bandwidth_batches, \"bandwidth\")\n",
    "# unique_data(latency_sum_batches, type1=\"s\", filename=\"latency_sum\")\n",
    "# parseData(latency_count_batches, \"latency_count\")\n",
    "# parseData(latency_sum_bathces, \"latency_sum\")"
   ]
  },
  {
   "cell_type": "code",
   "execution_count": 44,
   "metadata": {},
   "outputs": [],
   "source": [
    "final = []\n",
    "\n",
    "for batch in http_status_batches:\n",
    "    if int(batch[\"code\"]) >= 500:\n",
    "        if len(set(batch[\"values\"])) > 1:\n",
    "            errorHappened = False\n",
    "            for index, value in enumerate(batch[\"values\"]):\n",
    "                if index != 0:\n",
    "                    # if value > batch[\"values\"][index-1]:\n",
    "                    errorTimestamp = batch[\"timestamps\"][index]\n",
    "                        # print(f\"{datetime.fromtimestamp(errorTimestamp//1000)} - {batch['clusterID']} - {batch['consumer']} - {batch['route']}\")\n",
    "                    final.append({\n",
    "                        \"timestamp\": errorTimestamp,\n",
    "                        \"instance\": batch[\"instance\"],\n",
    "                        \"clusterID\": batch[\"clusterID\"],\n",
    "                        \"consumer\": batch[\"consumer\"],\n",
    "                        \"route\": batch[\"route\"],\n",
    "                        \"data\": value - batch[\"values\"][index-1],\n",
    "                        \"method\":  batch[\"method\"]\n",
    "                    })\n",
    "            # dict(zip(batch[\"values\"]batch[\"timestamps\"])) \n",
    "            # print(batch)\n",
    "\n",
    "with open('crashes-output2.json', 'w') as f:\n",
    "    f.write(json.dumps(final))"
   ]
  },
  {
   "cell_type": "code",
   "execution_count": null,
   "metadata": {},
   "outputs": [],
   "source": []
  },
  {
   "cell_type": "code",
   "execution_count": null,
   "metadata": {},
   "outputs": [],
   "source": [
    "# print(all_options)"
   ]
  },
  {
   "cell_type": "code",
   "execution_count": null,
   "metadata": {},
   "outputs": [],
   "source": [
    "# for cluster in filtered_batches:\n",
    "    # print(\"Cluster: \" + cluster)\n",
    "    # for batch_i in range(len(filtered_batches[cluster])):\n",
    "# timestamps = http_status_batches[1][\"timestamps\"]\n",
    "# for index, timestamp in enumerate(timestamps):\n",
    "    # if index == 0:\n",
    "        # index = 1\n",
    "        # continue\n",
    "    # time_diff = timestamp - timestamps[index-1]\n",
    "    # no_errors = True\n",
    "    # if time_diff < 60000 or time_diff > 60050:\n",
    "    #     no_errors = False\n",
    "    # print(time_diff)\n",
    "    # if not no_errors:\n",
    "    # print(\"Batch count ^:\", batch_i)"
   ]
  },
  {
   "cell_type": "code",
   "execution_count": null,
   "metadata": {},
   "outputs": [],
   "source": [
    "# bandwitch_clusters = [batch[\"clusterID\"] for batch in bandwidth_batches]"
   ]
  },
  {
   "cell_type": "code",
   "execution_count": null,
   "metadata": {},
   "outputs": [],
   "source": [
    "# print(set(bandwitch_clusters))"
   ]
  },
  {
   "cell_type": "code",
   "execution_count": null,
   "metadata": {},
   "outputs": [],
   "source": [
    "# for cluster in bandwitch_clusters:\n",
    "# filtered_batches = {}\n",
    "# for cluster in bandwitch_clusters:\n",
    "#     filtered_batches.update({cluster: []})\n",
    "# for cluster in bandwitch_clusters:\n",
    "#     for batch in bandwidth_batches:\n",
    "#         if batch[\"clusterID\"] == cluster:\n",
    "#             filtered_batches[cluster].append(batch)"
   ]
  },
  {
   "cell_type": "code",
   "execution_count": null,
   "metadata": {},
   "outputs": [],
   "source": [
    "# print(filtered_batches)"
   ]
  },
  {
   "cell_type": "code",
   "execution_count": null,
   "metadata": {},
   "outputs": [],
   "source": [
    "# status_codes = http_status_batches[0][\"values\"]\n",
    "# for index, status_code in enumerate(status_codes):\n",
    "    # print(status_code)"
   ]
  },
  {
   "cell_type": "code",
   "execution_count": null,
   "metadata": {},
   "outputs": [],
   "source": [
    "# for cluster in filtered_batches:\n",
    "#     print(\"Cluster: \" + cluster)\n",
    "#     for batch_i in range(len(filtered_batches[cluster])):\n",
    "#         timestamps = filtered_batches[cluster][batch_i][\"timestamps\"]\n",
    "#         for index, timestamp in enumerate(timestamps):\n",
    "#             if index == 0:\n",
    "#                 index = 1\n",
    "#                 continue\n",
    "#             time_diff = timestamp - timestamps[index-1]\n",
    "#             no_errors = True\n",
    "#             if time_diff < 60000 or time_diff > 60050:\n",
    "#                 no_errors = False\n",
    "#                 print(time_diff)\n",
    "#         if not no_errors:\n",
    "#             print(\"Batch count ^:\", batch_i)"
   ]
  }
 ],
 "metadata": {
  "kernelspec": {
   "display_name": "Python 3.10.1 64-bit",
   "language": "python",
   "name": "python3"
  },
  "language_info": {
   "codemirror_mode": {
    "name": "ipython",
    "version": 3
   },
   "file_extension": ".py",
   "mimetype": "text/x-python",
   "name": "python",
   "nbconvert_exporter": "python",
   "pygments_lexer": "ipython3",
   "version": "3.10.1"
  },
  "vscode": {
   "interpreter": {
    "hash": "26de051ba29f2982a8de78e945f0abaf191376122a1563185a90213a26c5da77"
   }
  }
 },
 "nbformat": 4,
 "nbformat_minor": 4
}
