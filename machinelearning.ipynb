{
 "cells": [
  {
   "cell_type": "code",
   "execution_count": 1,
   "metadata": {},
   "outputs": [],
   "source": [
    "import torch\n",
    "from torch.utils.data import Dataset\n",
    "from torchvision import datasets\n",
    "# import matplotlib.pyplot as plt\n",
    "from torch.utils.data import DataLoader\n",
    "from torch import nn\n",
    "import json\n",
    "import random\n",
    "from torch.nn.functional import normalize"
   ]
  },
  {
   "cell_type": "code",
   "execution_count": 2,
   "metadata": {},
   "outputs": [],
   "source": [
    "class NeuralNetwork(nn.Module):\n",
    "    def __init__(self):\n",
    "        super(NeuralNetwork, self).__init__()\n",
    "        self.flatten = nn.Flatten()\n",
    "        self.linear_relu_stack = nn.Sequential(\n",
    "            nn.Linear(3, 500),\n",
    "            nn.ReLU(),\n",
    "            nn.Linear(500, 500),\n",
    "            nn.ReLU(),\n",
    "            nn.Linear(500, 1),\n",
    "        )\n",
    "\n",
    "    def forward(self, x):\n",
    "        logits = self.linear_relu_stack(x)\n",
    "        return logits"
   ]
  },
  {
   "cell_type": "code",
   "execution_count": 3,
   "metadata": {},
   "outputs": [],
   "source": [
    "with open(\"./combined-data-with-latency2-ready.json\", \"r\") as f:\n",
    "    data_file = json.load(f)\n",
    "\n",
    "\n",
    "\n",
    "data = []\n",
    "target = []\n",
    "for d in data_file:\n",
    "    if \"h\" in d.keys() and \"b\" in d.keys() and \"c\" in d.keys() and \"s\" in d.keys():\n",
    "        data.append([d[\"b\"], d[\"c\"], d[\"s\"]])\n",
    "        target.append(d[\"h\"])\n",
    "\n",
    "data = torch.Tensor(data)\n",
    "target = torch.Tensor(target)"
   ]
  },
  {
   "cell_type": "code",
   "execution_count": 4,
   "metadata": {},
   "outputs": [],
   "source": [
    "shuffle_order = list(range(len(data)))\n",
    "random.shuffle(shuffle_order)"
   ]
  },
  {
   "cell_type": "code",
   "execution_count": 5,
   "metadata": {},
   "outputs": [],
   "source": [
    "data = normalize(data, p=1.0)\n",
    "target = normalize(target, p=1.0, dim=0)"
   ]
  },
  {
   "cell_type": "code",
   "execution_count": 6,
   "metadata": {},
   "outputs": [],
   "source": [
    "data = [data[i] for i in shuffle_order]\n",
    "target = [target[i] for i in shuffle_order]"
   ]
  },
  {
   "cell_type": "code",
   "execution_count": 7,
   "metadata": {},
   "outputs": [],
   "source": [
    "training_data = data[:2000000]\n",
    "training_target = target[:2000000]\n",
    "testing_data = data[2000000:]\n",
    "testing_target = target[2000000:]"
   ]
  },
  {
   "cell_type": "code",
   "execution_count": 8,
   "metadata": {},
   "outputs": [
    {
     "name": "stdout",
     "output_type": "stream",
     "text": [
      "Using cuda device\n"
     ]
    }
   ],
   "source": [
    "device = \"cuda\" if torch.cuda.is_available() else \"cpu\"\n",
    "print(f\"Using {device} device\")"
   ]
  },
  {
   "cell_type": "code",
   "execution_count": 9,
   "metadata": {},
   "outputs": [],
   "source": [
    "model = NeuralNetwork().to(device)"
   ]
  },
  {
   "cell_type": "code",
   "execution_count": 10,
   "metadata": {},
   "outputs": [
    {
     "name": "stdout",
     "output_type": "stream",
     "text": [
      "tensor([0.9143, 0.3286, 0.2369], device='cuda:0')\n",
      "tensor([0.1030], device='cuda:0', grad_fn=<AddBackward0>)\n"
     ]
    }
   ],
   "source": [
    "X = torch.rand(3, device=device)\n",
    "print(X)\n",
    "logits = model(X)\n",
    "# pred_probab = nn.Softmax(dim=1)(logits)\n",
    "# y_pred = pred_probab.argmax(1)\n",
    "# print(f\"Predicted class: {y_pred}\")\n",
    "print(logits)"
   ]
  },
  {
   "cell_type": "code",
   "execution_count": 23,
   "metadata": {},
   "outputs": [],
   "source": [
    "def train_loop(model, loss_fn, optimizer):\n",
    "    size = len(data)\n",
    "    for X, y in data, target:\n",
    "        X, y = X.to(device), y.to(device)\n",
    "        # Compute prediction and loss\n",
    "        pred = model(X)\n",
    "        loss = loss_fn(pred, y)\n",
    "\n",
    "        # Backpropagation\n",
    "        optimizer.zero_grad()\n",
    "        loss.backward()\n",
    "        optimizer.step()\n",
    "\n",
    "        # if batch % 9 == 0:\n",
    "            # print(f\"Batch {batch}/{len(dataloader)} - Loss: {loss.item():>8f}\")\n",
    "\n",
    "def test_loop(data, target, model, loss_fn):\n",
    "    # print(data)\n",
    "    # print(target)\n",
    "    size = len(data)\n",
    "    # num_batches = len(dataloader)\n",
    "    correct, bad = 0, 0\n",
    "\n",
    "    with torch.no_grad():\n",
    "        for X in range(len(data)):\n",
    "            y = target[X]\n",
    "            X = data[X]\n",
    "            X, y = X.to(device), y.to(device)\n",
    "            pred = model(X)\n",
    "            # print(pred)\n",
    "            # print(y)\n",
    "            # print()\n",
    "            if torch.round(pred) == y:\n",
    "                # print(\"correct\")\n",
    "                correct += 1\n",
    "            else:\n",
    "                # print(\"Bad\")\n",
    "                bad += 1\n",
    "            # print()\n",
    "            # test_loss += loss_fn(pred, y).item()\n",
    "            # correct += (pred.argmax(1) == y).type(torch.float).sum().item()\n",
    "\n",
    "            # if (len(data) / 10)\n",
    "    # test_loss /= num_batches\n",
    "    # .\n",
    "    # correct /= size\n",
    "    print(f\" Accuracy: {correct/(correct+bad)}%\")"
   ]
  },
  {
   "cell_type": "code",
   "execution_count": 13,
   "metadata": {},
   "outputs": [],
   "source": [
    "epochs = 10\n",
    "learning_rate = 1e-3"
   ]
  },
  {
   "cell_type": "code",
   "execution_count": 26,
   "metadata": {},
   "outputs": [
    {
     "name": "stdout",
     "output_type": "stream",
     "text": [
      "Epoch 1 - "
     ]
    },
    {
     "ename": "IndexError",
     "evalue": "list index out of range",
     "output_type": "error",
     "traceback": [
      "\u001b[1;31m---------------------------------------------------------------------------\u001b[0m",
      "\u001b[1;31mIndexError\u001b[0m                                Traceback (most recent call last)",
      "\u001b[1;32md:\\HACKATHON2022\\HACKATON2022\\machinelearning.ipynb Cell 13\u001b[0m in \u001b[0;36m<cell line: 4>\u001b[1;34m()\u001b[0m\n\u001b[0;32m      <a href='vscode-notebook-cell:/d%3A/HACKATHON2022/HACKATON2022/machinelearning.ipynb#X15sZmlsZQ%3D%3D?line=4'>5</a>\u001b[0m     \u001b[39mprint\u001b[39m(\u001b[39mf\u001b[39m\u001b[39m\"\u001b[39m\u001b[39mEpoch \u001b[39m\u001b[39m{\u001b[39;00mt\u001b[39m+\u001b[39m\u001b[39m1\u001b[39m\u001b[39m}\u001b[39;00m\u001b[39m - \u001b[39m\u001b[39m\"\u001b[39m, end\u001b[39m=\u001b[39m\u001b[39m\"\u001b[39m\u001b[39m\"\u001b[39m)\n\u001b[0;32m      <a href='vscode-notebook-cell:/d%3A/HACKATHON2022/HACKATON2022/machinelearning.ipynb#X15sZmlsZQ%3D%3D?line=5'>6</a>\u001b[0m     \u001b[39m# train_loop(training_data, training_target, model, loss_fn, optimizer)\u001b[39;00m\n\u001b[1;32m----> <a href='vscode-notebook-cell:/d%3A/HACKATHON2022/HACKATON2022/machinelearning.ipynb#X15sZmlsZQ%3D%3D?line=6'>7</a>\u001b[0m     test_loop(testing_data[\u001b[39m10000\u001b[39;49m:\u001b[39m100000\u001b[39;49m], testing_target[:\u001b[39m10000\u001b[39;49m], model, loss_fn)\n\u001b[0;32m      <a href='vscode-notebook-cell:/d%3A/HACKATHON2022/HACKATON2022/machinelearning.ipynb#X15sZmlsZQ%3D%3D?line=7'>8</a>\u001b[0m \u001b[39mprint\u001b[39m(\u001b[39m\"\u001b[39m\u001b[39mDone!\u001b[39m\u001b[39m\"\u001b[39m)\n",
      "\u001b[1;32md:\\HACKATHON2022\\HACKATON2022\\machinelearning.ipynb Cell 13\u001b[0m in \u001b[0;36mtest_loop\u001b[1;34m(data, target, model, loss_fn)\u001b[0m\n\u001b[0;32m     <a href='vscode-notebook-cell:/d%3A/HACKATHON2022/HACKATON2022/machinelearning.ipynb#X15sZmlsZQ%3D%3D?line=23'>24</a>\u001b[0m \u001b[39mwith\u001b[39;00m torch\u001b[39m.\u001b[39mno_grad():\n\u001b[0;32m     <a href='vscode-notebook-cell:/d%3A/HACKATHON2022/HACKATON2022/machinelearning.ipynb#X15sZmlsZQ%3D%3D?line=24'>25</a>\u001b[0m     \u001b[39mfor\u001b[39;00m X \u001b[39min\u001b[39;00m \u001b[39mrange\u001b[39m(\u001b[39mlen\u001b[39m(data)):\n\u001b[1;32m---> <a href='vscode-notebook-cell:/d%3A/HACKATHON2022/HACKATON2022/machinelearning.ipynb#X15sZmlsZQ%3D%3D?line=25'>26</a>\u001b[0m         y \u001b[39m=\u001b[39m target[X]\n\u001b[0;32m     <a href='vscode-notebook-cell:/d%3A/HACKATHON2022/HACKATON2022/machinelearning.ipynb#X15sZmlsZQ%3D%3D?line=26'>27</a>\u001b[0m         X \u001b[39m=\u001b[39m data[X]\n\u001b[0;32m     <a href='vscode-notebook-cell:/d%3A/HACKATHON2022/HACKATON2022/machinelearning.ipynb#X15sZmlsZQ%3D%3D?line=27'>28</a>\u001b[0m         X, y \u001b[39m=\u001b[39m X\u001b[39m.\u001b[39mto(device), y\u001b[39m.\u001b[39mto(device)\n",
      "\u001b[1;31mIndexError\u001b[0m: list index out of range"
     ]
    }
   ],
   "source": [
    "loss_fn = nn.CrossEntropyLoss()\n",
    "optimizer = torch.optim.SGD(model.parameters(), lr=learning_rate)\n",
    "\n",
    "for t in range(epochs):\n",
    "    print(f\"Epoch {t+1} - \", end=\"\")\n",
    "    # train_loop(training_data, training_target, model, loss_fn, optimizer)\n",
    "    test_loop(testing_data[10000:100000], testing_target[:10000], model, loss_fn)\n",
    "print(\"Done!\")"
   ]
  }
 ],
 "metadata": {
  "kernelspec": {
   "display_name": "Python 3.10.1 64-bit",
   "language": "python",
   "name": "python3"
  },
  "language_info": {
   "codemirror_mode": {
    "name": "ipython",
    "version": 3
   },
   "file_extension": ".py",
   "mimetype": "text/x-python",
   "name": "python",
   "nbconvert_exporter": "python",
   "pygments_lexer": "ipython3",
   "version": "3.10.1"
  },
  "orig_nbformat": 4,
  "vscode": {
   "interpreter": {
    "hash": "26de051ba29f2982a8de78e945f0abaf191376122a1563185a90213a26c5da77"
   }
  }
 },
 "nbformat": 4,
 "nbformat_minor": 2
}
